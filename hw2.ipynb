{
  "nbformat": 4,
  "nbformat_minor": 0,
  "metadata": {
    "colab": {
      "name": "RBF.ipynb",
      "provenance": [],
      "collapsed_sections": []
    },
    "kernelspec": {
      "name": "python3",
      "display_name": "Python 3"
    }
  },
  "cells": [
    {
      "cell_type": "markdown",
      "metadata": {
        "id": "QtjUqTjT7W1g"
      },
      "source": [
        "# RBF网络模型"
      ]
    },
    {
      "cell_type": "code",
      "metadata": {
        "id": "zfj6S74jkZEc"
      },
      "source": [
        "import torch\n",
        "import torch.nn as nn\n",
        "\n",
        "import numpy as np\n",
        "\n",
        "class RBFKernelStd(nn.Module):\n",
        "    def __init__(self):\n",
        "        super(RBFKernelStd, self).__init__()\n",
        "        self.coefficient = 1 / np.sqrt(2 * np.pi)\n",
        "        \n",
        "    def forward(self, x):\n",
        "        return torch.exp(-0.5 * x * x) * self.coefficient\n",
        "\n",
        "class RBF1D(nn.Module):\n",
        "    def __init__(self, n_params=20):\n",
        "        super(RBF1D, self).__init__()\n",
        "        self.n_params = n_params\n",
        "        self.kernel = RBFKernelStd()\n",
        "        self.one = torch.Tensor([1.])\n",
        "        self.a = nn.Parameter(torch.ones(self.n_params), requires_grad=True)\n",
        "        self.b = nn.Parameter(torch.ones(self.n_params), requires_grad=True)\n",
        "        self.linear = nn.Linear(n_params, 1, bias=True)\n",
        "        #self.w = nn.Parameter(torch.ones(self.n_params + 1), requires_grad=True)\n",
        "        self.init()\n",
        "    \n",
        "    def init(self):\n",
        "        self.a.data.normal_(0, 0.2)\n",
        "        self.b.data.normal_(0, 0.2)\n",
        "        #self.w.data.normal_(0, 0.2)\n",
        "        self.linear.weight.data.normal_(0, 0.2)\n",
        "        \n",
        "    def forward(self, x):\n",
        "        g = self.kernel(self.a * x + self.b)\n",
        "        #g_aug = torch.cat([g, self.one], dim=0)\n",
        "        y = self.linear(g)#torch.dot(self.w, g_aug)\n",
        "        return y"
      ],
      "execution_count": 25,
      "outputs": []
    },
    {
      "cell_type": "markdown",
      "metadata": {
        "id": "zEcKbnQ67f1H"
      },
      "source": [
        "# RBF拟合流程"
      ]
    },
    {
      "cell_type": "code",
      "metadata": {
        "id": "WMLsSGNZl9bo"
      },
      "source": [
        "import torch.optim as optim\n",
        "\n",
        "from matplotlib import pyplot as plt\n",
        "\n",
        "\n",
        "class GUI_Config:\n",
        "    function_range = [-1, 1]#[-400, 400]\n",
        "    canvas_size = [600, 600]\n",
        "    background_color = 0x112F41\n",
        "    line_segments = []\n",
        "    points = []\n",
        "    \n",
        "    @staticmethod\n",
        "    def normalized(data):\n",
        "        a, b = GUI_Config.function_range[0], GUI_Config.function_range[1]\n",
        "        \n",
        "        return tuple((d - a) / (b - a) for d in data)\n",
        "    \n",
        "    @staticmethod\n",
        "    def denormalized(data):\n",
        "        a, b = GUI_Config.function_range[0], GUI_Config.function_range[1]\n",
        "        return tuple(a * (1 - d) + b * d for d in data)\n",
        "    \n",
        "    @staticmethod\n",
        "    def add_line_segments(rbf_training):\n",
        "        GUI_Config.line_segments = []\n",
        "        for x in range(0, GUI_Config.canvas_size[0] + 1, 1):\n",
        "            xn = x / GUI_Config.canvas_size[0]\n",
        "            xd = GUI_Config.denormalized((xn,))[0]\n",
        "            yd = rbf_training.evaluate(xd)\n",
        "            yn = GUI_Config.normalized((yd,))[0]\n",
        "            GUI_Config.line_segments.append((xn, yn))\n",
        "            \n",
        "    \n",
        "    @staticmethod\n",
        "    def draw():\n",
        "        if len(GUI_Config.line_segments) >= 2:\n",
        "            GUI_Config.line_segments.sort(key=lambda x: x[0])\n",
        "            for i in range(0, len(GUI_Config.line_segments) - 1):\n",
        "                plt.plot(GUI_Config.line_segments[i], GUI_Config.line_segments[i + 1])\n",
        "        # for p in GUI_Config.points:\n",
        "            # gui.circle(p, 0xFF0000, 8)\n",
        "    \n",
        "\n",
        "class RBF_Training:\n",
        "    def __init__(self, **kwargs):\n",
        "        self.span = kwargs.get('span', 8)\n",
        "        self.lr = kwargs.get('lr', 0.05)\n",
        "        self.max_epoch = kwargs.get('max_epoch', 1000)\n",
        "        self.epsilon = kwargs.get('epsilon', 1e-6)\n",
        "        self.model = RBF1D(self.span)\n",
        "        self.datas = {}\n",
        "        self.optimizer = optim.Adam(self.model.parameters(), lr=self.lr)\n",
        "        self.loss_fun = nn.MSELoss()\n",
        "        self.last_loss = np.nan\n",
        "        \n",
        "    def update_model(self, **kwargs):\n",
        "        self.span = kwargs.get('span', self.span)\n",
        "        self.lr = kwargs.get('lr', self.lr)\n",
        "        self.max_epoch = kwargs.get('max_epoch', self.max_epoch)\n",
        "        self.epsilon = kwargs.get('epsilon', self.epsilon)\n",
        "        self.model = RBF1D(self.span)\n",
        "        self.optimizer = optim.Adam(self.model.parameters(), lr=self.lr)\n",
        "        \n",
        "    def train(self):\n",
        "        self.model.init()\n",
        "        self.model.train()\n",
        "        for epoch in range(self.max_epoch):\n",
        "            for x in self.datas:\n",
        "                y = self.datas[x]\n",
        "                xt = torch.Tensor([x])\n",
        "                yt = torch.Tensor([y])\n",
        "                \n",
        "                self.optimizer.zero_grad()\n",
        "                y_prediction = self.model(xt)\n",
        "                loss = self.loss_fun(y_prediction, yt)\n",
        "                loss.backward()\n",
        "                self.optimizer.step()\n",
        "\n",
        "            print(\"[Epoch: {:>4}] loss = {:>.9}\".format(epoch + 1, loss.item()))\n",
        "            if loss.item() < self.epsilon:\n",
        "                break\n",
        "        self.last_loss = loss.item()\n",
        "        print(\" [*] Training finished!\")\n",
        "    \n",
        "    def evaluate(self, x):\n",
        "        y = self.model(torch.Tensor([x])).item()\n",
        "        return y"
      ],
      "execution_count": null,
      "outputs": []
    },
    {
      "cell_type": "markdown",
      "metadata": {
        "id": "mgUWhwql7skj"
      },
      "source": [
        "# 设置训练参数 + 导入数据"
      ]
    },
    {
      "cell_type": "markdown",
      "metadata": {
        "id": "k3JRgZVr8CdF"
      },
      "source": [
        "### 模拟交互后识别到的6个坐标"
      ]
    },
    {
      "cell_type": "code",
      "metadata": {
        "id": "iuT6yk9m0qw8"
      },
      "source": [
        "collection=((1,2),(3,4),(1.3,5.1),(4.4,2.2),(0.1,7.9),(9,9)) "
      ],
      "execution_count": 15,
      "outputs": []
    },
    {
      "cell_type": "markdown",
      "metadata": {
        "id": "p3m8nVbh8Fhw"
      },
      "source": [
        "### 模拟交互后设置的训练参数"
      ]
    },
    {
      "cell_type": "code",
      "metadata": {
        "id": "R3dYMQA9zU-m"
      },
      "source": [
        "lr_slide = 1 # gui.slider('learning rate', 1e-3, 1, step=1e-3)\n",
        "# lr_slide.value = rbf_training.lr\n",
        "epsilon_slide = 1 # gui.slider('epsilon * %d'%esilon_times, 1e-3, 1, step=1e-3)\n",
        "# epsilon_slide.value = rbf_training.epsilon * esilon_times\n",
        "max_epoch_slide = 100 # gui.slider('max epoch', 100, 5000, step=100)\n",
        "# max_epoch_slide.value = rbf_training.max_epoch\n",
        "span_slide = 10 # gui.slider('span', 5, 50, step=1)\n",
        "# span_slide.value = rbf_training.span"
      ],
      "execution_count": 27,
      "outputs": []
    },
    {
      "cell_type": "markdown",
      "metadata": {
        "id": "VtwuLWH78VRq"
      },
      "source": [
        "# 导入输入训练模型，输出结果\n",
        "使用matplotlib的pyplot呈现拟合函数"
      ]
    },
    {
      "cell_type": "code",
      "metadata": {
        "id": "P66ocHv-6pjX"
      },
      "source": [
        "if __name__ == \"__main__\":\n",
        "    esilon_times = 10000\n",
        "    rbf_training = RBF_Training()\n",
        "    # gui = GUI(\"RBF Network Fitting (right click to add point)\", (GUI_Config.canvas_size[0], GUI_Config.canvas_size[1]), background_color=GUI_Config.background_color)\n",
        "    # plot_x=[0:0.01:GUI_Config.canvas_size[0]]\n",
        "    # plot_y=[0:0.01:GUI_Config.canvas_size[1]]\n",
        "    # KEY_CLEAR = gui.button('clear')\n",
        "    # KEY_TRAIN = gui.button('train')\n",
        "    # lr_slide = gui.slider('learning rate', 1e-3, 1, step=1e-3)\n",
        "    # lr_slide.value = rbf_training.lr\n",
        "    # epsilon_slide = gui.slider('epsilon * %d'%esilon_times, 1e-3, 1, step=1e-3)\n",
        "    # epsilon_slide.value = rbf_training.epsilon * esilon_times\n",
        "    # max_epoch_slide = gui.slider('max epoch', 100, 5000, step=100)\n",
        "    # max_epoch_slide.value = rbf_training.max_epoch\n",
        "    # span_slide = gui.slider('span', 5, 50, step=1)\n",
        "    # span_slide.value = rbf_training.span\n",
        " \n",
        "    # while gui.running:\n",
        "    #     event = None\n",
        "    #     while gui.get_event():\n",
        "    #         event = gui.event\n",
        "    #         print(event.pos, event.key, event.type)\n",
        "    #         break\n",
        "    #     max_epoch_slide.value = int(max_epoch_slide.value)\n",
        "    #     span_slide.value = int(span_slide.value)\n",
        "\n",
        "    rbf_training.update_model(lr=lr_slide, epsilon=epsilon_slide / esilon_times,max_epoch=int(max_epoch_slide),span=int(span_slide))\n",
        "\n",
        "        # if event:\n",
        "            # print(event.pos, event.key, event.type)\n",
        "            # if event.key == GUI.RMB and event.type == GUI.RELEASE:\n",
        "            #     print('Add point')\n",
        "            #     mouse_x, mouse_y = gui.get_cursor_pos()\n",
        "            #     GUI_Config.points.append((mouse_x, mouse_y))\n",
        "            #     canvas_x, canvas_y = GUI_Config.denormalized((mouse_x, mouse_y))\n",
        "            #     rbf_training.datas[canvas_x] = canvas_y\n",
        "    \n",
        "    print('Add point')\n",
        "    for i in collection:\n",
        "      GUI_Config.points.append(i)\n",
        "      canvas_x, canvas_y = GUI_Config.denormalized(i)\n",
        "      rbf_training.datas[canvas_x] = canvas_y\n",
        "            \n",
        "            # if event.key == KEY_CLEAR or event.key == GUI.SPACE and event.type == GUI.RELEASE:\n",
        "                # print('Clear')\n",
        "                # rbf_training.datas = {}\n",
        "                # GUI_Config.points = []\n",
        "                # GUI_Config.line_segments = []\n",
        "                \n",
        "            # if event.key == KEY_TRAIN:\n",
        "    print('Train')\n",
        "    if len(rbf_training.datas) >= 2:\n",
        "      GUI_Config.line_segments = []\n",
        "            # GUI_Config.draw(gui)\n",
        "      GUI_Config.draw()\n",
        "      print('Last loss : ', rbf_training.last_loss) # gui.text('Last loss : %.9f'%rbf_training.last_loss, (0.01, 0.99), 24)\n",
        "            # gui.show()\n",
        "      rbf_training.train()\n",
        "      GUI_Config.add_line_segments(rbf_training)\n",
        "                    \n",
        "    GUI_Config.draw()\n",
        "    print('Last loss : ',rbf_training.last_loss) # gui.text('Last loss : %.9f'%rbf_training.last_loss, (0.01, 0.99), 24)\n",
        "    \n",
        "        # gui.show()\n",
        "        # event = None\n",
        "    # gui.close()"
      ],
      "execution_count": null,
      "outputs": []
    }
  ]
}
